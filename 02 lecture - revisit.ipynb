{
 "cells": [
  {
   "cell_type": "markdown",
   "metadata": {},
   "source": [
    "# British Literature SVD & NMF in Excel"
   ]
  },
  {
   "cell_type": "code",
   "execution_count": 2,
   "metadata": {},
   "outputs": [
    {
     "name": "stderr",
     "output_type": "stream",
     "text": [
      "/home/rprilepskiy/anaconda3/lib/python3.7/importlib/_bootstrap.py:219: RuntimeWarning: numpy.ufunc size changed, may indicate binary incompatibility. Expected 192 from C header, got 216 from PyObject\n",
      "  return f(*args, **kwds)\n"
     ]
    }
   ],
   "source": [
    "import numpy as np\n",
    "from sklearn.feature_extraction.text import CountVectorizer, TfidfVectorizer\n",
    "from sklearn import decomposition\n",
    "from glob import glob\n",
    "import os"
   ]
  },
  {
   "cell_type": "code",
   "execution_count": 3,
   "metadata": {},
   "outputs": [],
   "source": [
    "np.set_printoptions(suppress=True)"
   ]
  },
  {
   "cell_type": "code",
   "execution_count": 6,
   "metadata": {},
   "outputs": [],
   "source": [
    "filenames = []\n",
    "for folder in [\"british-fiction-corpus\"]:\n",
    "    filenames.extend(glob(\"data/\" + folder + \"/*.txt\"))"
   ]
  },
  {
   "cell_type": "code",
   "execution_count": 7,
   "metadata": {},
   "outputs": [
    {
     "data": {
      "text/plain": [
       "27"
      ]
     },
     "execution_count": 7,
     "metadata": {},
     "output_type": "execute_result"
    }
   ],
   "source": [
    "len(filenames)"
   ]
  },
  {
   "cell_type": "code",
   "execution_count": 8,
   "metadata": {},
   "outputs": [
    {
     "data": {
      "text/plain": [
       "((27, 55035), 55035)"
      ]
     },
     "execution_count": 8,
     "metadata": {},
     "output_type": "execute_result"
    }
   ],
   "source": [
    "vectorizer = TfidfVectorizer(input='filename', stop_words='english')\n",
    "dtm = vectorizer.fit_transform(filenames).toarray()\n",
    "vocab = np.array(vectorizer.get_feature_names())\n",
    "dtm.shape, len(vocab)"
   ]
  },
  {
   "cell_type": "code",
   "execution_count": 13,
   "metadata": {},
   "outputs": [
    {
     "data": {
      "text/plain": [
       "['Dickens_Hard.txt',\n",
       " 'Dickens_David.txt',\n",
       " 'Austen_Sense.txt',\n",
       " 'Austen_Emma.txt',\n",
       " 'Trollope_Barchester.txt',\n",
       " 'Eliot_Mill.txt',\n",
       " 'Thackeray_Barry.txt',\n",
       " 'Thackeray_Vanity.txt',\n",
       " 'CBronte_Jane.txt',\n",
       " 'Fielding_Tom.txt',\n",
       " 'Thackeray_Pendennis.txt',\n",
       " 'Sterne_Tristram.txt',\n",
       " 'Fielding_Joseph.txt',\n",
       " 'Richardson_Pamela.txt',\n",
       " 'Dickens_Bleak.txt',\n",
       " 'Trollope_Prime.txt',\n",
       " 'Sterne_Sentimental.txt',\n",
       " 'ABronte_Agnes.txt',\n",
       " 'Austen_Pride.txt',\n",
       " 'Eliot_Middlemarch.txt',\n",
       " 'Eliot_Adam.txt',\n",
       " 'CBronte_Villette.txt',\n",
       " 'CBronte_Professor.txt',\n",
       " 'EBronte_Wuthering.txt',\n",
       " 'Trollope_Phineas.txt',\n",
       " 'ABronte_Tenant.txt',\n",
       " 'Richardson_Clarissa.txt']"
      ]
     },
     "execution_count": 13,
     "metadata": {},
     "output_type": "execute_result"
    }
   ],
   "source": [
    "[f.split(\"/\")[-1] for f in filenames]"
   ]
  },
  {
   "cell_type": "code",
   "execution_count": null,
   "metadata": {},
   "outputs": [],
   "source": []
  }
 ],
 "metadata": {
  "kernelspec": {
   "display_name": "Python 3",
   "language": "python",
   "name": "python3"
  },
  "language_info": {
   "codemirror_mode": {
    "name": "ipython",
    "version": 3
   },
   "file_extension": ".py",
   "mimetype": "text/x-python",
   "name": "python",
   "nbconvert_exporter": "python",
   "pygments_lexer": "ipython3",
   "version": "3.7.4"
  }
 },
 "nbformat": 4,
 "nbformat_minor": 2
}
