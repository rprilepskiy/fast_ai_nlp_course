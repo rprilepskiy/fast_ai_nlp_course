{
 "cells": [
  {
   "cell_type": "markdown",
   "metadata": {},
   "source": [
    "# British Literature SVD & NMF in Excel"
   ]
  },
  {
   "cell_type": "code",
   "execution_count": 2,
   "metadata": {},
   "outputs": [
    {
     "name": "stderr",
     "output_type": "stream",
     "text": [
      "/home/rprilepskiy/anaconda3/lib/python3.7/importlib/_bootstrap.py:219: RuntimeWarning: numpy.ufunc size changed, may indicate binary incompatibility. Expected 192 from C header, got 216 from PyObject\n",
      "  return f(*args, **kwds)\n"
     ]
    }
   ],
   "source": [
    "import numpy as np\n",
    "from sklearn.feature_extraction.text import CountVectorizer, TfidfVectorizer\n",
    "from sklearn import decomposition\n",
    "from glob import glob\n",
    "import os"
   ]
  },
  {
   "cell_type": "code",
   "execution_count": 3,
   "metadata": {},
   "outputs": [],
   "source": [
    "np.set_printoptions(suppress=True)"
   ]
  },
  {
   "cell_type": "code",
   "execution_count": 6,
   "metadata": {},
   "outputs": [],
   "source": [
    "filenames = []\n",
    "for folder in [\"british-fiction-corpus\"]:\n",
    "    filenames.extend(glob(\"data/\" + folder + \"/*.txt\"))"
   ]
  },
  {
   "cell_type": "code",
   "execution_count": 7,
   "metadata": {},
   "outputs": [
    {
     "data": {
      "text/plain": [
       "27"
      ]
     },
     "execution_count": 7,
     "metadata": {},
     "output_type": "execute_result"
    }
   ],
   "source": [
    "len(filenames)"
   ]
  },
  {
   "cell_type": "code",
   "execution_count": 8,
   "metadata": {},
   "outputs": [
    {
     "data": {
      "text/plain": [
       "((27, 55035), 55035)"
      ]
     },
     "execution_count": 8,
     "metadata": {},
     "output_type": "execute_result"
    }
   ],
   "source": [
    "vectorizer = TfidfVectorizer(input='filename', stop_words='english')\n",
    "dtm = vectorizer.fit_transform(filenames).toarray()\n",
    "vocab = np.array(vectorizer.get_feature_names())\n",
    "dtm.shape, len(vocab)"
   ]
  },
  {
   "cell_type": "code",
   "execution_count": 13,
   "metadata": {},
   "outputs": [
    {
     "data": {
      "text/plain": [
       "['Dickens_Hard.txt',\n",
       " 'Dickens_David.txt',\n",
       " 'Austen_Sense.txt',\n",
       " 'Austen_Emma.txt',\n",
       " 'Trollope_Barchester.txt',\n",
       " 'Eliot_Mill.txt',\n",
       " 'Thackeray_Barry.txt',\n",
       " 'Thackeray_Vanity.txt',\n",
       " 'CBronte_Jane.txt',\n",
       " 'Fielding_Tom.txt',\n",
       " 'Thackeray_Pendennis.txt',\n",
       " 'Sterne_Tristram.txt',\n",
       " 'Fielding_Joseph.txt',\n",
       " 'Richardson_Pamela.txt',\n",
       " 'Dickens_Bleak.txt',\n",
       " 'Trollope_Prime.txt',\n",
       " 'Sterne_Sentimental.txt',\n",
       " 'ABronte_Agnes.txt',\n",
       " 'Austen_Pride.txt',\n",
       " 'Eliot_Middlemarch.txt',\n",
       " 'Eliot_Adam.txt',\n",
       " 'CBronte_Villette.txt',\n",
       " 'CBronte_Professor.txt',\n",
       " 'EBronte_Wuthering.txt',\n",
       " 'Trollope_Phineas.txt',\n",
       " 'ABronte_Tenant.txt',\n",
       " 'Richardson_Clarissa.txt']"
      ]
     },
     "execution_count": 13,
     "metadata": {},
     "output_type": "execute_result"
    }
   ],
   "source": [
    "[f.split(\"/\")[-1] for f in filenames]"
   ]
  },
  {
   "cell_type": "markdown",
   "metadata": {},
   "source": [
    "# NMF "
   ]
  },
  {
   "cell_type": "code",
   "execution_count": 14,
   "metadata": {},
   "outputs": [],
   "source": [
    "clf = decomposition.NMF(n_components=10, random_state=10)\n",
    "W1 = clf.fit_transform(dtm)\n",
    "H1 = clf.components_"
   ]
  },
  {
   "cell_type": "code",
   "execution_count": 15,
   "metadata": {},
   "outputs": [],
   "source": [
    "num_top_words = 8"
   ]
  },
  {
   "cell_type": "code",
   "execution_count": 16,
   "metadata": {},
   "outputs": [],
   "source": [
    "def show_topics(a):\n",
    "    top_words = lambda t: [vocab[i] for i in np.argsort(t)[:-num_top_words-1:-1]]\n",
    "    topic_words = ([top_words(t) for t in a])\n",
    "    return [' '.join(t) for t in topic_words]"
   ]
  },
  {
   "cell_type": "code",
   "execution_count": 36,
   "metadata": {},
   "outputs": [],
   "source": [
    "def get_all_topic_words(H):\n",
    "    top_indices = lambda t: {i for i in np.argsort(t)[:-num_top_words-1:-1]}\n",
    "    topic_indices = [top_indices(t) for t in H]\n",
    "    return sorted(set.union(*topic_indices))"
   ]
  },
  {
   "cell_type": "code",
   "execution_count": 37,
   "metadata": {},
   "outputs": [],
   "source": [
    "ind = get_all_topic_words(H1)"
   ]
  },
  {
   "cell_type": "code",
   "execution_count": 38,
   "metadata": {},
   "outputs": [
    {
     "data": {
      "text/plain": [
       "array(['adams', 'allworthy', 'bounderby', 'brandon', 'catherine', 'cathy',\n",
       "       'crawley', 'darcy', 'dashwood', 'did', 'dorothea', 'earnshaw',\n",
       "       'edgar', 'elinor', 'elizabeth', 'elton', 'emma', 'ferrars', 'finn',\n",
       "       'glegg', 'good', 'gradgrind', 'hareton', 'heathcliff', 'jennings',\n",
       "       'jones', 'joseph', 'knightley', 'know', 'lady', 'laura', 'like',\n",
       "       'linton', 'little', 'll', 'lopez', 'louisa', 'lydgate', 'lyndon',\n",
       "       'maggie', 'major', 'man', 'marianne', 'micawber', 'miss', 'mr',\n",
       "       'mrs', 'old', 'osborne', 'pendennis', 'philip', 'phineas', 'said',\n",
       "       'sissy', 'sophia', 'sparsit', 'stephen', 'time', 'toby', 'tom',\n",
       "       'tulliver', 'wakem', 'weston', 'wharton', 'willoughby'],\n",
       "      dtype='<U31')"
      ]
     },
     "execution_count": 38,
     "metadata": {},
     "output_type": "execute_result"
    }
   ],
   "source": [
    "vocab[ind]"
   ]
  },
  {
   "cell_type": "code",
   "execution_count": 40,
   "metadata": {},
   "outputs": [
    {
     "data": {
      "text/plain": [
       "['mr said lydgate mrs dorothea micawber little know',\n",
       " 'said little like did time good toby know',\n",
       " 'adams said jones lady allworthy sophia mr joseph',\n",
       " 'mr darcy emma weston miss knightley elton elizabeth',\n",
       " 'elinor marianne dashwood jennings willoughby mrs brandon ferrars',\n",
       " 'heathcliff linton hareton catherine earnshaw cathy edgar ll',\n",
       " 'bounderby gradgrind sparsit said mr sissy louisa stephen',\n",
       " 'phineas said lopez mr finn man wharton laura',\n",
       " 'maggie tulliver said tom glegg philip mr wakem',\n",
       " 'crawley said pendennis osborne old little lyndon major']"
      ]
     },
     "execution_count": 40,
     "metadata": {},
     "output_type": "execute_result"
    }
   ],
   "source": [
    "show_topics(H1)"
   ]
  },
  {
   "cell_type": "code",
   "execution_count": 41,
   "metadata": {},
   "outputs": [
    {
     "data": {
      "text/plain": [
       "((27, 10), (10, 65))"
      ]
     },
     "execution_count": 41,
     "metadata": {},
     "output_type": "execute_result"
    }
   ],
   "source": [
    "W1.shape, H1[:, ind].shape"
   ]
  },
  {
   "cell_type": "markdown",
   "metadata": {},
   "source": [
    "# SVD"
   ]
  },
  {
   "cell_type": "code",
   "execution_count": 43,
   "metadata": {},
   "outputs": [],
   "source": [
    "import fbpca"
   ]
  },
  {
   "cell_type": "code",
   "execution_count": 44,
   "metadata": {},
   "outputs": [],
   "source": [
    "U, s, V = fbpca.pca(dtm, 10)"
   ]
  },
  {
   "cell_type": "code",
   "execution_count": 45,
   "metadata": {},
   "outputs": [],
   "source": [
    "ind = get_all_topic_words(V)"
   ]
  },
  {
   "cell_type": "code",
   "execution_count": 46,
   "metadata": {},
   "outputs": [
    {
     "data": {
      "text/plain": [
       "47"
      ]
     },
     "execution_count": 46,
     "metadata": {},
     "output_type": "execute_result"
    }
   ],
   "source": [
    "len(ind)"
   ]
  },
  {
   "cell_type": "code",
   "execution_count": 47,
   "metadata": {},
   "outputs": [
    {
     "data": {
      "text/plain": [
       "array(['adams', 'allworthy', 'arabin', 'bingley', 'bounderby', 'crawley',\n",
       "       'darcy', 'dashwood', 'eleanor', 'elinor', 'elizabeth', 'elton',\n",
       "       'emma', 'finn', 'fleur', 'harding', 'hath', 'heathcliff',\n",
       "       'hunsden', 'jennings', 'jones', 'joseph', 'knightley', 'lady',\n",
       "       'laura', 'linton', 'lopez', 'lovelace', 'lyndon', 'maggie',\n",
       "       'marianne', 'micawber', 'monsieur', 'mr', 'peggotty', 'pelet',\n",
       "       'pendennis', 'phineas', 'proudie', 'said', 'slope', 'sophia',\n",
       "       'toby', 'tulliver', 'uncle', 'weston', 'willoughby'], dtype='<U31')"
      ]
     },
     "execution_count": 47,
     "metadata": {},
     "output_type": "execute_result"
    }
   ],
   "source": [
    "vocab[ind]"
   ]
  },
  {
   "cell_type": "code",
   "execution_count": 48,
   "metadata": {},
   "outputs": [
    {
     "data": {
      "text/plain": [
       "['mr said lydgate mrs dorothea micawber little know',\n",
       " 'said little like did time good toby know',\n",
       " 'adams said jones lady allworthy sophia mr joseph',\n",
       " 'mr darcy emma weston miss knightley elton elizabeth',\n",
       " 'elinor marianne dashwood jennings willoughby mrs brandon ferrars',\n",
       " 'heathcliff linton hareton catherine earnshaw cathy edgar ll',\n",
       " 'bounderby gradgrind sparsit said mr sissy louisa stephen',\n",
       " 'phineas said lopez mr finn man wharton laura',\n",
       " 'maggie tulliver said tom glegg philip mr wakem',\n",
       " 'crawley said pendennis osborne old little lyndon major']"
      ]
     },
     "execution_count": 48,
     "metadata": {},
     "output_type": "execute_result"
    }
   ],
   "source": [
    "show_topics(H1)"
   ]
  },
  {
   "cell_type": "code",
   "execution_count": null,
   "metadata": {},
   "outputs": [],
   "source": []
  }
 ],
 "metadata": {
  "kernelspec": {
   "display_name": "Python 3",
   "language": "python",
   "name": "python3"
  },
  "language_info": {
   "codemirror_mode": {
    "name": "ipython",
    "version": 3
   },
   "file_extension": ".py",
   "mimetype": "text/x-python",
   "name": "python",
   "nbconvert_exporter": "python",
   "pygments_lexer": "ipython3",
   "version": "3.7.4"
  }
 },
 "nbformat": 4,
 "nbformat_minor": 2
}
