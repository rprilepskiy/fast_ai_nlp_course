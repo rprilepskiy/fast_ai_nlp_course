{
 "cells": [
  {
   "cell_type": "markdown",
   "metadata": {},
   "source": [
    "# Sentiment Classification of Movie Reviews (using Naive Bayes, Logistic Regression, and Ngrams)"
   ]
  },
  {
   "cell_type": "markdown",
   "metadata": {},
   "source": [
    "## IMDB "
   ]
  },
  {
   "cell_type": "code",
   "execution_count": 1,
   "metadata": {},
   "outputs": [],
   "source": [
    "%reload_ext autoreload\n",
    "%autoreload 2\n",
    "%matplotlib inline"
   ]
  },
  {
   "cell_type": "code",
   "execution_count": 2,
   "metadata": {},
   "outputs": [],
   "source": [
    "from fastai import *\n",
    "from fastai.text import *"
   ]
  },
  {
   "cell_type": "code",
   "execution_count": 3,
   "metadata": {},
   "outputs": [],
   "source": [
    "import sklearn.feature_extraction.text as sklearn_text"
   ]
  },
  {
   "cell_type": "code",
   "execution_count": 4,
   "metadata": {},
   "outputs": [],
   "source": [
    "?? URLs"
   ]
  },
  {
   "cell_type": "code",
   "execution_count": 6,
   "metadata": {},
   "outputs": [
    {
     "name": "stdout",
     "output_type": "stream",
     "text": [
      "Downloading http://files.fast.ai/data/examples/imdb_sample\n"
     ]
    },
    {
     "data": {
      "text/html": [],
      "text/plain": [
       "<IPython.core.display.HTML object>"
      ]
     },
     "metadata": {},
     "output_type": "display_data"
    },
    {
     "data": {
      "text/plain": [
       "PosixPath('/home/rprilepskiy/.fastai/data/imdb_sample')"
      ]
     },
     "execution_count": 6,
     "metadata": {},
     "output_type": "execute_result"
    }
   ],
   "source": [
    "path = untar_data(URLs.IMDB_SAMPLE)\n",
    "path"
   ]
  },
  {
   "cell_type": "code",
   "execution_count": 7,
   "metadata": {},
   "outputs": [
    {
     "data": {
      "text/html": [
       "<div>\n",
       "<style scoped>\n",
       "    .dataframe tbody tr th:only-of-type {\n",
       "        vertical-align: middle;\n",
       "    }\n",
       "\n",
       "    .dataframe tbody tr th {\n",
       "        vertical-align: top;\n",
       "    }\n",
       "\n",
       "    .dataframe thead th {\n",
       "        text-align: right;\n",
       "    }\n",
       "</style>\n",
       "<table border=\"1\" class=\"dataframe\">\n",
       "  <thead>\n",
       "    <tr style=\"text-align: right;\">\n",
       "      <th></th>\n",
       "      <th>label</th>\n",
       "      <th>text</th>\n",
       "      <th>is_valid</th>\n",
       "    </tr>\n",
       "  </thead>\n",
       "  <tbody>\n",
       "    <tr>\n",
       "      <td>0</td>\n",
       "      <td>negative</td>\n",
       "      <td>Un-bleeping-believable! Meg Ryan doesn't even ...</td>\n",
       "      <td>False</td>\n",
       "    </tr>\n",
       "    <tr>\n",
       "      <td>1</td>\n",
       "      <td>positive</td>\n",
       "      <td>This is a extremely well-made film. The acting...</td>\n",
       "      <td>False</td>\n",
       "    </tr>\n",
       "    <tr>\n",
       "      <td>2</td>\n",
       "      <td>negative</td>\n",
       "      <td>Every once in a long while a movie will come a...</td>\n",
       "      <td>False</td>\n",
       "    </tr>\n",
       "    <tr>\n",
       "      <td>3</td>\n",
       "      <td>positive</td>\n",
       "      <td>Name just says it all. I watched this movie wi...</td>\n",
       "      <td>False</td>\n",
       "    </tr>\n",
       "    <tr>\n",
       "      <td>4</td>\n",
       "      <td>negative</td>\n",
       "      <td>This movie succeeds at being one of the most u...</td>\n",
       "      <td>False</td>\n",
       "    </tr>\n",
       "  </tbody>\n",
       "</table>\n",
       "</div>"
      ],
      "text/plain": [
       "      label                                               text  is_valid\n",
       "0  negative  Un-bleeping-believable! Meg Ryan doesn't even ...     False\n",
       "1  positive  This is a extremely well-made film. The acting...     False\n",
       "2  negative  Every once in a long while a movie will come a...     False\n",
       "3  positive  Name just says it all. I watched this movie wi...     False\n",
       "4  negative  This movie succeeds at being one of the most u...     False"
      ]
     },
     "execution_count": 7,
     "metadata": {},
     "output_type": "execute_result"
    }
   ],
   "source": [
    "df = pd.read_csv(path/'texts.csv')\n",
    "df.head()"
   ]
  },
  {
   "cell_type": "code",
   "execution_count": 9,
   "metadata": {},
   "outputs": [
    {
     "data": {
      "text/html": [],
      "text/plain": [
       "<IPython.core.display.HTML object>"
      ]
     },
     "metadata": {},
     "output_type": "display_data"
    },
    {
     "data": {
      "text/html": [],
      "text/plain": [
       "<IPython.core.display.HTML object>"
      ]
     },
     "metadata": {},
     "output_type": "display_data"
    }
   ],
   "source": [
    "movie_reviews = (TextList.from_csv(path, 'texts.csv', cols='text')\n",
    "                         .split_from_df(col=2)\n",
    "                         .label_from_df(cols=0))"
   ]
  },
  {
   "cell_type": "code",
   "execution_count": 11,
   "metadata": {},
   "outputs": [
    {
     "data": {
      "text/plain": [
       "(Text xxbos xxmaj this very funny xxmaj british comedy shows what might happen if a section of xxmaj london , in this case xxmaj xxunk , were to xxunk itself independent from the rest of the xxup uk and its laws , xxunk & post - war xxunk . xxmaj merry xxunk is what would happen . \n",
       "  \n",
       "   xxmaj the explosion of a wartime bomb leads to the xxunk of ancient xxunk which show that xxmaj xxunk was xxunk to the xxmaj xxunk of xxmaj xxunk xxunk ago , a small historical xxunk long since forgotten . xxmaj to the new xxmaj xxunk , however , this is an unexpected opportunity to live as they please , free from any xxunk from xxmaj xxunk . \n",
       "  \n",
       "   xxmaj stanley xxmaj xxunk is excellent as the minor city xxunk who suddenly finds himself leading one of the world 's xxunk xxunk . xxmaj xxunk xxmaj margaret xxmaj xxunk is a delight as the history professor who sides with xxmaj xxunk . xxmaj others in the stand - out cast include xxmaj xxunk xxmaj xxunk , xxmaj paul xxmaj xxunk , xxmaj xxunk xxmaj xxunk , xxmaj xxunk xxmaj xxunk & xxmaj sir xxmaj michael xxmaj xxunk . \n",
       "  \n",
       "   xxmaj welcome to xxmaj xxunk !, Category positive)"
      ]
     },
     "execution_count": 11,
     "metadata": {},
     "output_type": "execute_result"
    }
   ],
   "source": [
    "movie_reviews.valid.x[0], movie_reviews.valid.y[0]"
   ]
  },
  {
   "cell_type": "code",
   "execution_count": 12,
   "metadata": {},
   "outputs": [
    {
     "data": {
      "text/plain": [
       "(800, 200)"
      ]
     },
     "execution_count": 12,
     "metadata": {},
     "output_type": "execute_result"
    }
   ],
   "source": [
    "len(movie_reviews.train.x), len(movie_reviews.valid.x)"
   ]
  },
  {
   "cell_type": "code",
   "execution_count": 13,
   "metadata": {},
   "outputs": [
    {
     "data": {
      "text/plain": [
       "(6008, 19161)"
      ]
     },
     "execution_count": 13,
     "metadata": {},
     "output_type": "execute_result"
    }
   ],
   "source": [
    "len(movie_reviews.vocab.itos), len(movie_reviews.vocab.stoi)"
   ]
  },
  {
   "cell_type": "code",
   "execution_count": 14,
   "metadata": {},
   "outputs": [
    {
     "data": {
      "text/plain": [
       "917"
      ]
     },
     "execution_count": 14,
     "metadata": {},
     "output_type": "execute_result"
    }
   ],
   "source": [
    "movie_reviews.vocab.stoi['language']"
   ]
  },
  {
   "cell_type": "code",
   "execution_count": 17,
   "metadata": {},
   "outputs": [
    {
     "data": {
      "text/plain": [
       "'language'"
      ]
     },
     "execution_count": 17,
     "metadata": {},
     "output_type": "execute_result"
    }
   ],
   "source": [
    "movie_reviews.vocab.itos[917]"
   ]
  },
  {
   "cell_type": "code",
   "execution_count": 18,
   "metadata": {},
   "outputs": [
    {
     "data": {
      "text/plain": [
       "['that', 'this', '\"', \"'s\", '\\n \\n ', '-', 'was', 'as', 'for', 'movie']"
      ]
     },
     "execution_count": 18,
     "metadata": {},
     "output_type": "execute_result"
    }
   ],
   "source": [
    "movie_reviews.vocab.itos[20:30]"
   ]
  },
  {
   "cell_type": "code",
   "execution_count": 20,
   "metadata": {},
   "outputs": [
    {
     "data": {
      "text/plain": [
       "'sollett'"
      ]
     },
     "execution_count": 20,
     "metadata": {},
     "output_type": "execute_result"
    }
   ],
   "source": [
    "movie_reviews.vocab.itos[-1]"
   ]
  },
  {
   "cell_type": "code",
   "execution_count": 21,
   "metadata": {},
   "outputs": [
    {
     "data": {
      "text/plain": [
       "['xxunk',\n",
       " 'xxpad',\n",
       " 'xxbos',\n",
       " 'xxeos',\n",
       " 'xxfld',\n",
       " 'xxmaj',\n",
       " 'xxup',\n",
       " 'xxrep',\n",
       " 'xxwrep',\n",
       " 'the',\n",
       " '.',\n",
       " ',',\n",
       " 'and',\n",
       " 'a',\n",
       " 'of',\n",
       " 'to',\n",
       " 'is',\n",
       " 'it',\n",
       " 'in',\n",
       " 'i']"
      ]
     },
     "execution_count": 21,
     "metadata": {},
     "output_type": "execute_result"
    }
   ],
   "source": [
    "movie_reviews.vocab.itos[:20]"
   ]
  },
  {
   "cell_type": "code",
   "execution_count": 22,
   "metadata": {},
   "outputs": [
    {
     "data": {
      "text/plain": [
       "defaultdict(int,\n",
       "            {'xxunk': 0,\n",
       "             'xxpad': 1,\n",
       "             'xxbos': 2,\n",
       "             'xxeos': 3,\n",
       "             'xxfld': 4,\n",
       "             'xxmaj': 5,\n",
       "             'xxup': 6,\n",
       "             'xxrep': 7,\n",
       "             'xxwrep': 8,\n",
       "             'the': 9,\n",
       "             '.': 10,\n",
       "             ',': 11,\n",
       "             'and': 12,\n",
       "             'a': 13,\n",
       "             'of': 14,\n",
       "             'to': 15,\n",
       "             'is': 16,\n",
       "             'it': 17,\n",
       "             'in': 18,\n",
       "             'i': 19,\n",
       "             'that': 20,\n",
       "             'this': 21,\n",
       "             '\"': 22,\n",
       "             \"'s\": 23,\n",
       "             '\\n \\n ': 24,\n",
       "             '-': 25,\n",
       "             'was': 26,\n",
       "             'as': 27,\n",
       "             'for': 28,\n",
       "             'movie': 29,\n",
       "             'with': 30,\n",
       "             'but': 31,\n",
       "             'film': 32,\n",
       "             'you': 33,\n",
       "             ')': 34,\n",
       "             'on': 35,\n",
       "             '(': 36,\n",
       "             \"n't\": 37,\n",
       "             'are': 38,\n",
       "             'he': 39,\n",
       "             'his': 40,\n",
       "             'not': 41,\n",
       "             'have': 42,\n",
       "             'be': 43,\n",
       "             'one': 44,\n",
       "             'they': 45,\n",
       "             'all': 46,\n",
       "             'at': 47,\n",
       "             'by': 48,\n",
       "             'an': 49,\n",
       "             'from': 50,\n",
       "             'like': 51,\n",
       "             '!': 52,\n",
       "             'so': 53,\n",
       "             'who': 54,\n",
       "             'there': 55,\n",
       "             'about': 56,\n",
       "             'just': 57,\n",
       "             'out': 58,\n",
       "             'if': 59,\n",
       "             'or': 60,\n",
       "             'do': 61,\n",
       "             \"'\": 62,\n",
       "             'what': 63,\n",
       "             'her': 64,\n",
       "             'has': 65,\n",
       "             'some': 66,\n",
       "             'more': 67,\n",
       "             'good': 68,\n",
       "             'when': 69,\n",
       "             'up': 70,\n",
       "             'very': 71,\n",
       "             '?': 72,\n",
       "             'she': 73,\n",
       "             'would': 74,\n",
       "             'no': 75,\n",
       "             'really': 76,\n",
       "             'were': 77,\n",
       "             'their': 78,\n",
       "             'my': 79,\n",
       "             'had': 80,\n",
       "             'time': 81,\n",
       "             'can': 82,\n",
       "             'only': 83,\n",
       "             'which': 84,\n",
       "             'even': 85,\n",
       "             'see': 86,\n",
       "             'story': 87,\n",
       "             'me': 88,\n",
       "             'into': 89,\n",
       "             'did': 90,\n",
       "             ':': 91,\n",
       "             'well': 92,\n",
       "             'we': 93,\n",
       "             'will': 94,\n",
       "             'does': 95,\n",
       "             'than': 96,\n",
       "             'also': 97,\n",
       "             'get': 98,\n",
       "             '...': 99,\n",
       "             'people': 100,\n",
       "             'other': 101,\n",
       "             'bad': 102,\n",
       "             'been': 103,\n",
       "             'could': 104,\n",
       "             'first': 105,\n",
       "             'much': 106,\n",
       "             'how': 107,\n",
       "             'most': 108,\n",
       "             'any': 109,\n",
       "             'because': 110,\n",
       "             'two': 111,\n",
       "             'then': 112,\n",
       "             'great': 113,\n",
       "             'him': 114,\n",
       "             'its': 115,\n",
       "             'too': 116,\n",
       "             'made': 117,\n",
       "             'them': 118,\n",
       "             'after': 119,\n",
       "             'movies': 120,\n",
       "             'make': 121,\n",
       "             '/': 122,\n",
       "             'way': 123,\n",
       "             'think': 124,\n",
       "             'never': 125,\n",
       "             'watch': 126,\n",
       "             'acting': 127,\n",
       "             'seen': 128,\n",
       "             ';': 129,\n",
       "             'films': 130,\n",
       "             'plot': 131,\n",
       "             'being': 132,\n",
       "             'many': 133,\n",
       "             'over': 134,\n",
       "             'where': 135,\n",
       "             'character': 136,\n",
       "             'man': 137,\n",
       "             'little': 138,\n",
       "             'better': 139,\n",
       "             'life': 140,\n",
       "             'characters': 141,\n",
       "             'love': 142,\n",
       "             'your': 143,\n",
       "             'here': 144,\n",
       "             'know': 145,\n",
       "             'scenes': 146,\n",
       "             'best': 147,\n",
       "             'end': 148,\n",
       "             'show': 149,\n",
       "             'while': 150,\n",
       "             'through': 151,\n",
       "             'should': 152,\n",
       "             'off': 153,\n",
       "             'ever': 154,\n",
       "             'these': 155,\n",
       "             'go': 156,\n",
       "             'such': 157,\n",
       "             'say': 158,\n",
       "             '--': 159,\n",
       "             'something': 160,\n",
       "             'scene': 161,\n",
       "             'still': 162,\n",
       "             'before': 163,\n",
       "             'though': 164,\n",
       "             'watching': 165,\n",
       "             'between': 166,\n",
       "             'actually': 167,\n",
       "             'old': 168,\n",
       "             '10': 169,\n",
       "             'find': 170,\n",
       "             'back': 171,\n",
       "             'now': 172,\n",
       "             'why': 173,\n",
       "             'years': 174,\n",
       "             \"'ve\": 175,\n",
       "             'actors': 176,\n",
       "             'fact': 177,\n",
       "             'those': 178,\n",
       "             \"'m\": 179,\n",
       "             'thing': 180,\n",
       "             'pretty': 181,\n",
       "             'quite': 182,\n",
       "             'part': 183,\n",
       "             'going': 184,\n",
       "             'same': 185,\n",
       "             'real': 186,\n",
       "             'another': 187,\n",
       "             'down': 188,\n",
       "             'funny': 189,\n",
       "             'nothing': 190,\n",
       "             'look': 191,\n",
       "             'makes': 192,\n",
       "             '*': 193,\n",
       "             'new': 194,\n",
       "             'want': 195,\n",
       "             'action': 196,\n",
       "             '&': 197,\n",
       "             'director': 198,\n",
       "             'work': 199,\n",
       "             'few': 200,\n",
       "             \"'re\": 201,\n",
       "             'seems': 202,\n",
       "             'around': 203,\n",
       "             'world': 204,\n",
       "             'point': 205,\n",
       "             'without': 206,\n",
       "             'cast': 207,\n",
       "             'again': 208,\n",
       "             'own': 209,\n",
       "             'both': 210,\n",
       "             'lot': 211,\n",
       "             'enough': 212,\n",
       "             'every': 213,\n",
       "             'family': 214,\n",
       "             'got': 215,\n",
       "             'ca': 216,\n",
       "             \"'ll\": 217,\n",
       "             'probably': 218,\n",
       "             'big': 219,\n",
       "             'bit': 220,\n",
       "             'might': 221,\n",
       "             'things': 222,\n",
       "             'horror': 223,\n",
       "             'us': 224,\n",
       "             'almost': 225,\n",
       "             'may': 226,\n",
       "             'right': 227,\n",
       "             'must': 228,\n",
       "             'away': 229,\n",
       "             'thought': 230,\n",
       "             'interesting': 231,\n",
       "             'least': 232,\n",
       "             'whole': 233,\n",
       "             'series': 234,\n",
       "             'gets': 235,\n",
       "             'each': 236,\n",
       "             'give': 237,\n",
       "             'young': 238,\n",
       "             'however': 239,\n",
       "             'making': 240,\n",
       "             'day': 241,\n",
       "             'fun': 242,\n",
       "             'anything': 243,\n",
       "             'minutes': 244,\n",
       "             'kind': 245,\n",
       "             'come': 246,\n",
       "             'girl': 247,\n",
       "             'saw': 248,\n",
       "             'script': 249,\n",
       "             'take': 250,\n",
       "             'long': 251,\n",
       "             'times': 252,\n",
       "             'someone': 253,\n",
       "             'found': 254,\n",
       "             'done': 255,\n",
       "             'feel': 256,\n",
       "             'far': 257,\n",
       "             'since': 258,\n",
       "             'role': 259,\n",
       "             'original': 260,\n",
       "             'course': 261,\n",
       "             'goes': 262,\n",
       "             'last': 263,\n",
       "             'true': 264,\n",
       "             'simply': 265,\n",
       "             'always': 266,\n",
       "             \"'d\": 267,\n",
       "             'tv': 268,\n",
       "             'hard': 269,\n",
       "             'place': 270,\n",
       "             'set': 271,\n",
       "             'trying': 272,\n",
       "             'believe': 273,\n",
       "             'shot': 274,\n",
       "             'comes': 275,\n",
       "             'actor': 276,\n",
       "             'yet': 277,\n",
       "             '4': 278,\n",
       "             'having': 279,\n",
       "             'book': 280,\n",
       "             'looks': 281,\n",
       "             'guy': 282,\n",
       "             'screen': 283,\n",
       "             'later': 284,\n",
       "             'shows': 285,\n",
       "             'performance': 286,\n",
       "             'worth': 287,\n",
       "             'comedy': 288,\n",
       "             'sure': 289,\n",
       "             'looking': 290,\n",
       "             'sense': 291,\n",
       "             'star': 292,\n",
       "             'effects': 293,\n",
       "             'read': 294,\n",
       "             'takes': 295,\n",
       "             'although': 296,\n",
       "             'audience': 297,\n",
       "             'ending': 298,\n",
       "             'john': 299,\n",
       "             'anyone': 300,\n",
       "             'worst': 301,\n",
       "             'american': 302,\n",
       "             'year': 303,\n",
       "             'especially': 304,\n",
       "             'women': 305,\n",
       "             'together': 306,\n",
       "             'dvd': 307,\n",
       "             'instead': 308,\n",
       "             'different': 309,\n",
       "             'am': 310,\n",
       "             'woman': 311,\n",
       "             'men': 312,\n",
       "             '2': 313,\n",
       "             'our': 314,\n",
       "             'played': 315,\n",
       "             'music': 316,\n",
       "             'special': 317,\n",
       "             'three': 318,\n",
       "             'rest': 319,\n",
       "             'put': 320,\n",
       "             'maybe': 321,\n",
       "             'wife': 322,\n",
       "             'kids': 323,\n",
       "             'war': 324,\n",
       "             'left': 325,\n",
       "             'black': 326,\n",
       "             'once': 327,\n",
       "             'second': 328,\n",
       "             'watched': 329,\n",
       "             'next': 330,\n",
       "             'friends': 331,\n",
       "             'rather': 332,\n",
       "             'let': 333,\n",
       "             '\\x96': 334,\n",
       "             'job': 335,\n",
       "             'start': 336,\n",
       "             'others': 337,\n",
       "             'budget': 338,\n",
       "             'need': 339,\n",
       "             'mind': 340,\n",
       "             'said': 341,\n",
       "             'main': 342,\n",
       "             'else': 343,\n",
       "             'wrong': 344,\n",
       "             'beautiful': 345,\n",
       "             'half': 346,\n",
       "             'high': 347,\n",
       "             'idea': 348,\n",
       "             'death': 349,\n",
       "             'tell': 350,\n",
       "             'help': 351,\n",
       "             'nice': 352,\n",
       "             'seem': 353,\n",
       "             'perhaps': 354,\n",
       "             'hollywood': 355,\n",
       "             'everyone': 356,\n",
       "             'play': 357,\n",
       "             'case': 358,\n",
       "             'production': 359,\n",
       "             'piece': 360,\n",
       "             'episode': 361,\n",
       "             'camera': 362,\n",
       "             'low': 363,\n",
       "             'already': 364,\n",
       "             'top': 365,\n",
       "             'poor': 366,\n",
       "             'during': 367,\n",
       "             '3': 368,\n",
       "             'stars': 369,\n",
       "             'house': 370,\n",
       "             '..': 371,\n",
       "             'couple': 372,\n",
       "             'boring': 373,\n",
       "             'reason': 374,\n",
       "             'try': 375,\n",
       "             'along': 376,\n",
       "             'name': 377,\n",
       "             'small': 378,\n",
       "             'plays': 379,\n",
       "             'father': 380,\n",
       "             'everything': 381,\n",
       "             'used': 382,\n",
       "             'video': 383,\n",
       "             'getting': 384,\n",
       "             'money': 385,\n",
       "             'full': 386,\n",
       "             'less': 387,\n",
       "             'performances': 388,\n",
       "             'often': 389,\n",
       "             'liked': 390,\n",
       "             'came': 391,\n",
       "             '1': 392,\n",
       "             'robert': 393,\n",
       "             'either': 394,\n",
       "             'fan': 395,\n",
       "             'given': 396,\n",
       "             'hand': 397,\n",
       "             'kill': 398,\n",
       "             'felt': 399,\n",
       "             'yes': 400,\n",
       "             'completely': 401,\n",
       "             'night': 402,\n",
       "             'children': 403,\n",
       "             'himself': 404,\n",
       "             'girls': 405,\n",
       "             'early': 406,\n",
       "             'awful': 407,\n",
       "             'oh': 408,\n",
       "             'live': 409,\n",
       "             'picture': 410,\n",
       "             'parts': 411,\n",
       "             'throughout': 412,\n",
       "             'until': 413,\n",
       "             'become': 414,\n",
       "             'town': 415,\n",
       "             'written': 416,\n",
       "             'terrible': 417,\n",
       "             'turn': 418,\n",
       "             'child': 419,\n",
       "             'despite': 420,\n",
       "             'moments': 421,\n",
       "             'boy': 422,\n",
       "             'problem': 423,\n",
       "             'head': 424,\n",
       "             'stupid': 425,\n",
       "             'beginning': 426,\n",
       "             'home': 427,\n",
       "             'version': 428,\n",
       "             'able': 429,\n",
       "             'excellent': 430,\n",
       "             'sometimes': 431,\n",
       "             'overall': 432,\n",
       "             'recommend': 433,\n",
       "             'sex': 434,\n",
       "             'keep': 435,\n",
       "             'human': 436,\n",
       "             'drama': 437,\n",
       "             'hero': 438,\n",
       "             'supposed': 439,\n",
       "             'seemed': 440,\n",
       "             'use': 441,\n",
       "             'writing': 442,\n",
       "             'wo': 443,\n",
       "             'remember': 444,\n",
       "             'went': 445,\n",
       "             'enjoy': 446,\n",
       "             'classic': 447,\n",
       "             'person': 448,\n",
       "             'killer': 449,\n",
       "             'lost': 450,\n",
       "             'late': 451,\n",
       "             '5': 452,\n",
       "             'title': 453,\n",
       "             'king': 454,\n",
       "             'entire': 455,\n",
       "             'history': 456,\n",
       "             'son': 457,\n",
       "             'school': 458,\n",
       "             'lead': 459,\n",
       "             'english': 460,\n",
       "             'sound': 461,\n",
       "             'cinema': 462,\n",
       "             'seeing': 463,\n",
       "             'unfortunately': 464,\n",
       "             'genre': 465,\n",
       "             'sort': 466,\n",
       "             'mean': 467,\n",
       "             'friend': 468,\n",
       "             'fans': 469,\n",
       "             'close': 470,\n",
       "             'quality': 471,\n",
       "             'definitely': 472,\n",
       "             'james': 473,\n",
       "             'worse': 474,\n",
       "             'says': 475,\n",
       "             'except': 476,\n",
       "             'doing': 477,\n",
       "             'itself': 478,\n",
       "             'past': 479,\n",
       "             'certainly': 480,\n",
       "             'days': 481,\n",
       "             'five': 482,\n",
       "             'dialogue': 483,\n",
       "             'line': 484,\n",
       "             'anyway': 485,\n",
       "             'under': 486,\n",
       "             'tries': 487,\n",
       "             'called': 488,\n",
       "             'fine': 489,\n",
       "             'guys': 490,\n",
       "             'care': 491,\n",
       "             'style': 492,\n",
       "             'hope': 493,\n",
       "             'short': 494,\n",
       "             'lines': 495,\n",
       "             'told': 496,\n",
       "             'car': 497,\n",
       "             'decent': 498,\n",
       "             'brother': 499,\n",
       "             'killed': 500,\n",
       "             'wanted': 501,\n",
       "             'entertaining': 502,\n",
       "             'based': 503,\n",
       "             'absolutely': 504,\n",
       "             'feeling': 505,\n",
       "             'truly': 506,\n",
       "             'etc': 507,\n",
       "             'heard': 508,\n",
       "             'serious': 509,\n",
       "             'run': 510,\n",
       "             'wonderful': 511,\n",
       "             'lives': 512,\n",
       "             'gives': 513,\n",
       "             'moment': 514,\n",
       "             'game': 515,\n",
       "             'documentary': 516,\n",
       "             'self': 517,\n",
       "             'several': 518,\n",
       "             'waste': 519,\n",
       "             'dead': 520,\n",
       "             'blood': 521,\n",
       "             'matter': 522,\n",
       "             'wonder': 523,\n",
       "             'humor': 524,\n",
       "             'thinking': 525,\n",
       "             'against': 526,\n",
       "             'white': 527,\n",
       "             'side': 528,\n",
       "             'works': 529,\n",
       "             'mother': 530,\n",
       "             'flick': 531,\n",
       "             'stuff': 532,\n",
       "             'turns': 533,\n",
       "             'finally': 534,\n",
       "             'loved': 535,\n",
       "             'group': 536,\n",
       "             'wants': 537,\n",
       "             'face': 538,\n",
       "             'guess': 539,\n",
       "             'dark': 540,\n",
       "             'city': 541,\n",
       "             'events': 542,\n",
       "             'starts': 543,\n",
       "             'hour': 544,\n",
       "             'took': 545,\n",
       "             'george': 546,\n",
       "             'themselves': 547,\n",
       "             'red': 548,\n",
       "             'behind': 549,\n",
       "             'talking': 550,\n",
       "             'hit': 551,\n",
       "             'eyes': 552,\n",
       "             'attempt': 553,\n",
       "             'direction': 554,\n",
       "             'novel': 555,\n",
       "             'saying': 556,\n",
       "             'word': 557,\n",
       "             'dull': 558,\n",
       "             'light': 559,\n",
       "             'view': 560,\n",
       "             'playing': 561,\n",
       "             'opinion': 562,\n",
       "             'expect': 563,\n",
       "             'evil': 564,\n",
       "             'ten': 565,\n",
       "             'violence': 566,\n",
       "             'local': 567,\n",
       "             'final': 568,\n",
       "             'gave': 569,\n",
       "             'leave': 570,\n",
       "             'paul': 571,\n",
       "             'crap': 572,\n",
       "             'happens': 573,\n",
       "             'knows': 574,\n",
       "             'problems': 575,\n",
       "             'example': 576,\n",
       "             'relationship': 577,\n",
       "             'non': 578,\n",
       "             'michael': 579,\n",
       "             'victor': 580,\n",
       "             'ridiculous': 581,\n",
       "             'god': 582,\n",
       "             'similar': 583,\n",
       "             'general': 584,\n",
       "             'major': 585,\n",
       "             'bunch': 586,\n",
       "             'sister': 587,\n",
       "             'oscar': 588,\n",
       "             'turned': 589,\n",
       "             'brilliant': 590,\n",
       "             'highly': 591,\n",
       "             'nearly': 592,\n",
       "             'de': 593,\n",
       "             'please': 594,\n",
       "             'romance': 595,\n",
       "             'body': 596,\n",
       "             'extremely': 597,\n",
       "             'mr.': 598,\n",
       "             'soon': 599,\n",
       "             'yourself': 600,\n",
       "             'known': 601,\n",
       "             'lack': 602,\n",
       "             'age': 603,\n",
       "             'interest': 604,\n",
       "             'ago': 605,\n",
       "             'stories': 606,\n",
       "             'exactly': 607,\n",
       "             'finds': 608,\n",
       "             'modern': 609,\n",
       "             'voice': 610,\n",
       "             'perfect': 611,\n",
       "             'heart': 612,\n",
       "             'alone': 613,\n",
       "             'tells': 614,\n",
       "             'daughter': 615,\n",
       "             'directed': 616,\n",
       "             'needs': 617,\n",
       "             'kid': 618,\n",
       "             'lady': 619,\n",
       "             'sad': 620,\n",
       "             'fight': 621,\n",
       "             'happened': 622,\n",
       "             'eye': 623,\n",
       "             'favorite': 624,\n",
       "             'using': 625,\n",
       "             'upon': 626,\n",
       "             'ben': 627,\n",
       "             'none': 628,\n",
       "             'beyond': 629,\n",
       "             'nature': 630,\n",
       "             'change': 631,\n",
       "             'save': 632,\n",
       "             'shots': 633,\n",
       "             'country': 634,\n",
       "             'number': 635,\n",
       "             'shown': 636,\n",
       "             'surprised': 637,\n",
       "             'romantic': 638,\n",
       "             'huge': 639,\n",
       "             'murder': 640,\n",
       "             'steve': 641,\n",
       "             'slow': 642,\n",
       "             'myself': 643,\n",
       "             'woods': 644,\n",
       "             'apparently': 645,\n",
       "             'lake': 646,\n",
       "             'cheap': 647,\n",
       "             'involved': 648,\n",
       "             'roles': 649,\n",
       "             '6': 650,\n",
       "             'gore': 651,\n",
       "             'obviously': 652,\n",
       "             'knew': 653,\n",
       "             'level': 654,\n",
       "             '8': 655,\n",
       "             'experience': 656,\n",
       "             'became': 657,\n",
       "             'gone': 658,\n",
       "             'cover': 659,\n",
       "             'amazing': 660,\n",
       "             'create': 661,\n",
       "             'living': 662,\n",
       "             'usually': 663,\n",
       "             'order': 664,\n",
       "             'monster': 665,\n",
       "             'happen': 666,\n",
       "             'list': 667,\n",
       "             'clearly': 668,\n",
       "             'power': 669,\n",
       "             'features': 670,\n",
       "             're': 671,\n",
       "             'subject': 672,\n",
       "             'across': 673,\n",
       "             'parents': 674,\n",
       "             'seriously': 675,\n",
       "             'ways': 676,\n",
       "             'room': 677,\n",
       "             'filmed': 678,\n",
       "             'cheesy': 679,\n",
       "             'disappointed': 680,\n",
       "             'important': 681,\n",
       "             'plenty': 682,\n",
       "             '7': 683,\n",
       "             'particular': 684,\n",
       "             'started': 685,\n",
       "             'today': 686,\n",
       "             'enjoyed': 687,\n",
       "             'cinematography': 688,\n",
       "             'annoying': 689,\n",
       "             'looked': 690,\n",
       "             'supporting': 691,\n",
       "             'mostly': 692,\n",
       "             'message': 693,\n",
       "             'somewhat': 694,\n",
       "             'viewer': 695,\n",
       "             'type': 696,\n",
       "             'certain': 697,\n",
       "             'release': 698,\n",
       "             'effort': 699,\n",
       "             'possible': 700,\n",
       "             'add': 701,\n",
       "             'figure': 702,\n",
       "             'named': 703,\n",
       "             'wish': 704,\n",
       "             'difficult': 705,\n",
       "             'falls': 706,\n",
       "             'four': 707,\n",
       "             'husband': 708,\n",
       "             'score': 709,\n",
       "             'leads': 710,\n",
       "             'form': 711,\n",
       "             'working': 712,\n",
       "             'writer': 713,\n",
       "             'sets': 714,\n",
       "             'including': 715,\n",
       "             'enjoyable': 716,\n",
       "             'ok': 717,\n",
       "             'note': 718,\n",
       "             'spent': 719,\n",
       "             'review': 720,\n",
       "             'art': 721,\n",
       "             'police': 722,\n",
       "             'sit': 723,\n",
       "             'horrible': 724,\n",
       "             'actress': 725,\n",
       "             'ones': 726,\n",
       "             'bring': 727,\n",
       "             'greatest': 728,\n",
       "             'dance': 729,\n",
       "             'earth': 730,\n",
       "             'becomes': 731,\n",
       "             'happy': 732,\n",
       "             'cut': 733,\n",
       "             'straight': 734,\n",
       "             'soundtrack': 735,\n",
       "             'leading': 736,\n",
       "             'laugh': 737,\n",
       "             'strange': 738,\n",
       "             'space': 739,\n",
       "             'b': 740,\n",
       "             'tale': 741,\n",
       "             'comic': 742,\n",
       "             'near': 743,\n",
       "             'due': 744,\n",
       "             'weak': 745,\n",
       "             'earlier': 746,\n",
       "             'follow': 747,\n",
       "             'british': 748,\n",
       "             'ends': 749,\n",
       "             'typical': 750,\n",
       "             'attention': 751,\n",
       "             'points': 752,\n",
       "             'talent': 753,\n",
       "             'tom': 754,\n",
       "             'female': 755,\n",
       "             'future': 756,\n",
       "             'fall': 757,\n",
       "             'laughs': 758,\n",
       "             'stop': 759,\n",
       "             'easy': 760,\n",
       "             'moving': 761,\n",
       "             'apart': 762,\n",
       "             'chance': 763,\n",
       "             'running': 764,\n",
       "             'york': 765,\n",
       "             'particularly': 766,\n",
       "             'luke': 767,\n",
       "             'bill': 768,\n",
       "             'forced': 769,\n",
       "             'theme': 770,\n",
       "             'rating': 771,\n",
       "             'coming': 772,\n",
       "             'davis': 773,\n",
       "             'totally': 774,\n",
       "             'realistic': 775,\n",
       "             'simple': 776,\n",
       "             'hours': 777,\n",
       "             'taken': 778,\n",
       "             'indeed': 779,\n",
       "             'released': 780,\n",
       "             'sexual': 781,\n",
       "             'feels': 782,\n",
       "             'french': 783,\n",
       "             'screenplay': 784,\n",
       "             'la': 785,\n",
       "             'jokes': 786,\n",
       "             'sequences': 787,\n",
       "             'chase': 788,\n",
       "             'portrayed': 789,\n",
       "             'dramatic': 790,\n",
       "             'mention': 791,\n",
       "             'talk': 792,\n",
       "             'gun': 793,\n",
       "             'thriller': 794,\n",
       "             'jimmy': 795,\n",
       "             'career': 796,\n",
       "             'reality': 797,\n",
       "             'incredibly': 798,\n",
       "             'whether': 799,\n",
       "             'towards': 800,\n",
       "             'easily': 801,\n",
       "             'entertainment': 802,\n",
       "             'feature': 803,\n",
       "             'western': 804,\n",
       "             'dialog': 805,\n",
       "             'business': 806,\n",
       "             'suspense': 807,\n",
       "             'focus': 808,\n",
       "             'doubt': 809,\n",
       "             'possibly': 810,\n",
       "             'water': 811,\n",
       "             'gay': 812,\n",
       "             'blob': 813,\n",
       "             'comments': 814,\n",
       "             'brothers': 815,\n",
       "             'clear': 816,\n",
       "             'agree': 817,\n",
       "             'allen': 818,\n",
       "             'door': 819,\n",
       "             'editing': 820,\n",
       "             'third': 821,\n",
       "             'deserves': 822,\n",
       "             'silly': 823,\n",
       "             'fantastic': 824,\n",
       "             'convincing': 825,\n",
       "             'hardly': 826,\n",
       "             'lame': 827,\n",
       "             'act': 828,\n",
       "             'former': 829,\n",
       "             'material': 830,\n",
       "             'appears': 831,\n",
       "             'understand': 832,\n",
       "             'twist': 833,\n",
       "             'episodes': 834,\n",
       "             'buy': 835,\n",
       "             'secret': 836,\n",
       "             'richard': 837,\n",
       "             'south': 838,\n",
       "             'bourne': 839,\n",
       "             'deal': 840,\n",
       "             'musical': 841,\n",
       "             'words': 842,\n",
       "             'unique': 843,\n",
       "             'mess': 844,\n",
       "             'opening': 845,\n",
       "             'society': 846,\n",
       "             'avoid': 847,\n",
       "             'footage': 848,\n",
       "             'joe': 849,\n",
       "             'free': 850,\n",
       "             'forget': 851,\n",
       "             'herself': 852,\n",
       "             'appear': 853,\n",
       "             'obvious': 854,\n",
       "             'box': 855,\n",
       "             'single': 856,\n",
       "             'average': 857,\n",
       "             'indian': 858,\n",
       "             'rent': 859,\n",
       "             'okay': 860,\n",
       "             'scary': 861,\n",
       "             'within': 862,\n",
       "             'office': 863,\n",
       "             'crime': 864,\n",
       "             'science': 865,\n",
       "             '80': 866,\n",
       "             'believable': 867,\n",
       "             'period': 868,\n",
       "             'showing': 869,\n",
       "             'call': 870,\n",
       "             'return': 871,\n",
       "             'keeps': 872,\n",
       "             'lee': 873,\n",
       "             'expected': 874,\n",
       "             'stay': 875,\n",
       "             'middle': 876,\n",
       "             'jack': 877,\n",
       "             'hands': 878,\n",
       "             'david': 879,\n",
       "             'attempts': 880,\n",
       "             'strong': 881,\n",
       "             'tension': 882,\n",
       "             'crew': 883,\n",
       "             'hilarious': 884,\n",
       "             'grade': 885,\n",
       "             'outside': 886,\n",
       "             'means': 887,\n",
       "             'viewing': 888,\n",
       "             'sadly': 889,\n",
       "             'hell': 890,\n",
       "             'whatever': 891,\n",
       "             'sorry': 892,\n",
       "             'recently': 893,\n",
       "             'stage': 894,\n",
       "             'decides': 895,\n",
       "             'hear': 896,\n",
       "             'team': 897,\n",
       "             'learn': 898,\n",
       "             'nor': 899,\n",
       "             'open': 900,\n",
       "             'break': 901,\n",
       "             'question': 902,\n",
       "             'remake': 903,\n",
       "             'porn': 904,\n",
       "             'pain': 905,\n",
       "             'imagine': 906,\n",
       "             'deep': 907,\n",
       "             'zombie': 908,\n",
       "             'basically': 909,\n",
       "             'killing': 910,\n",
       "             'company': 911,\n",
       "             'poorly': 912,\n",
       "             'dr.': 913,\n",
       "             'predictable': 914,\n",
       "             'taking': 915,\n",
       "             'large': 916,\n",
       "             'language': 917,\n",
       "             'giving': 918,\n",
       "             'public': 919,\n",
       "             'audiences': 920,\n",
       "             'ask': 921,\n",
       "             'cool': 922,\n",
       "             'america': 923,\n",
       "             'slasher': 924,\n",
       "             'west': 925,\n",
       "             'mentioned': 926,\n",
       "             'die': 927,\n",
       "             'christmas': 928,\n",
       "             'complete': 929,\n",
       "             'needed': 930,\n",
       "             'martin': 931,\n",
       "             'cgi': 932,\n",
       "             'boys': 933,\n",
       "             'vargas': 934,\n",
       "             'usual': 935,\n",
       "             'begin': 936,\n",
       "             'dad': 937,\n",
       "             'total': 938,\n",
       "             'somehow': 939,\n",
       "             'stick': 940,\n",
       "             'shame': 941,\n",
       "             'successful': 942,\n",
       "             'sitting': 943,\n",
       "             'fred': 944,\n",
       "             'meets': 945,\n",
       "             'unless': 946,\n",
       "             'dancing': 947,\n",
       "             'sounds': 948,\n",
       "             'above': 949,\n",
       "             'elements': 950,\n",
       "             'whose': 951,\n",
       "             'german': 952,\n",
       "             'considering': 953,\n",
       "             'caught': 954,\n",
       "             'credit': 955,\n",
       "             'interested': 956,\n",
       "             'move': 957,\n",
       "             'filming': 958,\n",
       "             'truth': 959,\n",
       "             'eventually': 960,\n",
       "             'share': 961,\n",
       "             'ability': 962,\n",
       "             'meaning': 963,\n",
       "             'agent': 964,\n",
       "             'fast': 965,\n",
       "             'stand': 966,\n",
       "             'onto': 967,\n",
       "             'plain': 968,\n",
       "             'comment': 969,\n",
       "             'kept': 970,\n",
       "             'situation': 971,\n",
       "             'setting': 972,\n",
       "             'value': 973,\n",
       "             'willing': 974,\n",
       "             'realize': 975,\n",
       "             'acted': 976,\n",
       "             'weird': 977,\n",
       "             'alive': 978,\n",
       "             'fairly': 979,\n",
       "             'dream': 980,\n",
       "             'building': 981,\n",
       "             'hair': 982,\n",
       "             'bored': 983,\n",
       "             'minute': 984,\n",
       "             'emotional': 985,\n",
       "             'directing': 986,\n",
       "             'theatrical': 987,\n",
       "             'famous': 988,\n",
       "             'begins': 989,\n",
       "             'front': 990,\n",
       "             'catch': 991,\n",
       "             'sequence': 992,\n",
       "             'runs': 993,\n",
       "             'follows': 994,\n",
       "             'song': 995,\n",
       "             'government': 996,\n",
       "             'miss': 997,\n",
       "             'actual': 998,\n",
       "             'makers': 999,\n",
       "             ...})"
      ]
     },
     "execution_count": 22,
     "metadata": {},
     "output_type": "execute_result"
    }
   ],
   "source": [
    "movie_reviews.vocab.stoi"
   ]
  },
  {
   "cell_type": "code",
   "execution_count": 29,
   "metadata": {},
   "outputs": [
    {
     "data": {
      "text/plain": [
       "'xxunk'"
      ]
     },
     "execution_count": 29,
     "metadata": {},
     "output_type": "execute_result"
    }
   ],
   "source": [
    "movie_reviews.vocab.itos[movie_reviews.vocab.stoi['ranger']]"
   ]
  },
  {
   "cell_type": "code",
   "execution_count": 24,
   "metadata": {},
   "outputs": [
    {
     "data": {
      "text/plain": [
       "'language'"
      ]
     },
     "execution_count": 24,
     "metadata": {},
     "output_type": "execute_result"
    }
   ],
   "source": [
    "movie_reviews.vocab.itos[movie_reviews.vocab.stoi['language']]"
   ]
  },
  {
   "cell_type": "code",
   "execution_count": 32,
   "metadata": {},
   "outputs": [
    {
     "data": {
      "text/plain": [
       "Text xxbos xxmaj un - xxunk - believable ! xxmaj meg xxmaj ryan does n't even look her usual xxunk lovable self in this , which normally makes me forgive her shallow xxunk acting xxunk . xxmaj hard to believe she was the producer on this dog . xxmaj plus xxmaj kevin xxmaj kline : what kind of suicide trip has his career been on ? xxmaj xxunk ... xxmaj xxunk ! ! ! xxmaj finally this was directed by the guy who did xxmaj big xxmaj xxunk ? xxmaj must be a replay of xxmaj jonestown - hollywood style . xxmaj xxunk !"
      ]
     },
     "execution_count": 32,
     "metadata": {},
     "output_type": "execute_result"
    }
   ],
   "source": [
    "t = movie_reviews.train[0][0]\n",
    "t"
   ]
  },
  {
   "cell_type": "code",
   "execution_count": 33,
   "metadata": {},
   "outputs": [
    {
     "data": {
      "text/plain": [
       "array([   2,    5, 4619,   25,    0,   25,  867,   52,    5, 3776,    5, 1800,   95,   37,   85,  191,   64,  935,\n",
       "          0, 2738,  517,   18,   21,   11,   84, 2417,  192,   88, 3777,   64])"
      ]
     },
     "execution_count": 33,
     "metadata": {},
     "output_type": "execute_result"
    }
   ],
   "source": [
    "t.data[:30]"
   ]
  },
  {
   "cell_type": "markdown",
   "metadata": {},
   "source": [
    "# Creating our term-document matrix"
   ]
  },
  {
   "cell_type": "code",
   "execution_count": 35,
   "metadata": {},
   "outputs": [],
   "source": [
    "c = Counter([4,2,8,8,4,8])"
   ]
  },
  {
   "cell_type": "code",
   "execution_count": 36,
   "metadata": {},
   "outputs": [
    {
     "data": {
      "text/plain": [
       "Counter({4: 2, 2: 1, 8: 3})"
      ]
     },
     "execution_count": 36,
     "metadata": {},
     "output_type": "execute_result"
    }
   ],
   "source": [
    "c"
   ]
  },
  {
   "cell_type": "code",
   "execution_count": 37,
   "metadata": {},
   "outputs": [
    {
     "data": {
      "text/plain": [
       "dict_values([2, 1, 3])"
      ]
     },
     "execution_count": 37,
     "metadata": {},
     "output_type": "execute_result"
    }
   ],
   "source": [
    "c.values()"
   ]
  },
  {
   "cell_type": "code",
   "execution_count": 38,
   "metadata": {},
   "outputs": [
    {
     "data": {
      "text/plain": [
       "dict_keys([4, 2, 8])"
      ]
     },
     "execution_count": 38,
     "metadata": {},
     "output_type": "execute_result"
    }
   ],
   "source": [
    "c.keys()"
   ]
  },
  {
   "cell_type": "code",
   "execution_count": 40,
   "metadata": {},
   "outputs": [
    {
     "data": {
      "text/plain": [
       "Text xxbos xxmaj this very funny xxmaj british comedy shows what might happen if a section of xxmaj london , in this case xxmaj xxunk , were to xxunk itself independent from the rest of the xxup uk and its laws , xxunk & post - war xxunk . xxmaj merry xxunk is what would happen . \n",
       " \n",
       "  xxmaj the explosion of a wartime bomb leads to the xxunk of ancient xxunk which show that xxmaj xxunk was xxunk to the xxmaj xxunk of xxmaj xxunk xxunk ago , a small historical xxunk long since forgotten . xxmaj to the new xxmaj xxunk , however , this is an unexpected opportunity to live as they please , free from any xxunk from xxmaj xxunk . \n",
       " \n",
       "  xxmaj stanley xxmaj xxunk is excellent as the minor city xxunk who suddenly finds himself leading one of the world 's xxunk xxunk . xxmaj xxunk xxmaj margaret xxmaj xxunk is a delight as the history professor who sides with xxmaj xxunk . xxmaj others in the stand - out cast include xxmaj xxunk xxmaj xxunk , xxmaj paul xxmaj xxunk , xxmaj xxunk xxmaj xxunk , xxmaj xxunk xxmaj xxunk & xxmaj sir xxmaj michael xxmaj xxunk . \n",
       " \n",
       "  xxmaj welcome to xxmaj xxunk !"
      ]
     },
     "execution_count": 40,
     "metadata": {},
     "output_type": "execute_result"
    }
   ],
   "source": [
    "(movie_reviews.valid.x)[0]"
   ]
  },
  {
   "cell_type": "code",
   "execution_count": 41,
   "metadata": {},
   "outputs": [
    {
     "data": {
      "text/plain": [
       "Counter({2: 1,\n",
       "         5: 32,\n",
       "         21: 3,\n",
       "         71: 1,\n",
       "         189: 1,\n",
       "         748: 1,\n",
       "         288: 1,\n",
       "         285: 1,\n",
       "         63: 2,\n",
       "         221: 1,\n",
       "         666: 2,\n",
       "         59: 1,\n",
       "         13: 4,\n",
       "         2705: 1,\n",
       "         14: 6,\n",
       "         2875: 1,\n",
       "         11: 10,\n",
       "         18: 2,\n",
       "         358: 1,\n",
       "         0: 32,\n",
       "         77: 1,\n",
       "         15: 6,\n",
       "         478: 1,\n",
       "         1833: 1,\n",
       "         50: 3,\n",
       "         9: 10,\n",
       "         319: 1,\n",
       "         6: 1,\n",
       "         2743: 1,\n",
       "         12: 1,\n",
       "         115: 1,\n",
       "         4126: 1,\n",
       "         197: 2,\n",
       "         1331: 1,\n",
       "         25: 2,\n",
       "         324: 1,\n",
       "         10: 7,\n",
       "         3963: 1,\n",
       "         16: 4,\n",
       "         74: 1,\n",
       "         24: 3,\n",
       "         2817: 1,\n",
       "         5821: 1,\n",
       "         2595: 1,\n",
       "         710: 1,\n",
       "         3429: 1,\n",
       "         84: 1,\n",
       "         149: 1,\n",
       "         20: 1,\n",
       "         26: 1,\n",
       "         605: 1,\n",
       "         378: 1,\n",
       "         1057: 1,\n",
       "         251: 1,\n",
       "         258: 1,\n",
       "         1346: 1,\n",
       "         194: 1,\n",
       "         239: 1,\n",
       "         49: 1,\n",
       "         2764: 1,\n",
       "         1335: 1,\n",
       "         409: 1,\n",
       "         27: 3,\n",
       "         45: 1,\n",
       "         594: 1,\n",
       "         850: 1,\n",
       "         109: 1,\n",
       "         2601: 1,\n",
       "         430: 1,\n",
       "         1902: 1,\n",
       "         541: 1,\n",
       "         54: 2,\n",
       "         1107: 1,\n",
       "         608: 1,\n",
       "         404: 1,\n",
       "         736: 1,\n",
       "         44: 1,\n",
       "         204: 1,\n",
       "         23: 1,\n",
       "         3480: 1,\n",
       "         4736: 1,\n",
       "         456: 1,\n",
       "         4051: 1,\n",
       "         2420: 1,\n",
       "         30: 1,\n",
       "         337: 1,\n",
       "         966: 1,\n",
       "         58: 1,\n",
       "         207: 1,\n",
       "         2110: 1,\n",
       "         571: 1,\n",
       "         5035: 1,\n",
       "         579: 1,\n",
       "         1843: 1,\n",
       "         52: 1})"
      ]
     },
     "execution_count": 41,
     "metadata": {},
     "output_type": "execute_result"
    }
   ],
   "source": [
    "Counter((movie_reviews.valid.x)[0].data)"
   ]
  },
  {
   "cell_type": "code",
   "execution_count": 46,
   "metadata": {},
   "outputs": [
    {
     "data": {
      "text/plain": [
       "'an'"
      ]
     },
     "execution_count": 46,
     "metadata": {},
     "output_type": "execute_result"
    }
   ],
   "source": [
    "movie_reviews.vocab.itos[49]"
   ]
  },
  {
   "cell_type": "code",
   "execution_count": 47,
   "metadata": {},
   "outputs": [
    {
     "data": {
      "text/plain": [
       "Text xxbos i saw this movie once as a kid on the late - late show and fell in love with it . \n",
       " \n",
       "  xxmaj it took 30 + years , but i recently did find it on xxup dvd - it was n't cheap , either - in a xxunk that xxunk in war movies . xxmaj we watched it last night for the first time . xxmaj the audio was good , however it was grainy and had the trailers between xxunk . xxmaj even so , it was better than i remembered it . i was also impressed at how true it was to the play . \n",
       " \n",
       "  xxmaj the xxunk is around here xxunk . xxmaj if you 're xxunk in finding it , fire me a xxunk and i 'll see if i can get you the xxunk . xxunk"
      ]
     },
     "execution_count": 47,
     "metadata": {},
     "output_type": "execute_result"
    }
   ],
   "source": [
    "(movie_reviews.valid.x)[1]"
   ]
  },
  {
   "cell_type": "code",
   "execution_count": 73,
   "metadata": {},
   "outputs": [],
   "source": [
    "def get_term_doc_matrix(label_list, vocab_len):\n",
    "    j_indices = []\n",
    "    indptr = []\n",
    "    values = []\n",
    "    indptr.append(0)\n",
    "\n",
    "    for i, doc in enumerate(label_list):\n",
    "        feature_counter = Counter(doc.data)\n",
    "        j_indices.extend(feature_counter.keys())\n",
    "        values.extend(feature_counter.values())\n",
    "        indptr.append(len(j_indices))\n",
    "        \n",
    "#     return (values, j_indices, indptr)\n",
    "\n",
    "    return scipy.sparse.csr_matrix((values, j_indices, indptr),\n",
    "                                   shape=(len(indptr) - 1, vocab_len),\n",
    "                                   dtype=int)"
   ]
  },
  {
   "cell_type": "code",
   "execution_count": 74,
   "metadata": {},
   "outputs": [
    {
     "name": "stdout",
     "output_type": "stream",
     "text": [
      "CPU times: user 31.7 ms, sys: 220 µs, total: 31.9 ms\n",
      "Wall time: 30.1 ms\n"
     ]
    }
   ],
   "source": [
    "%%time\n",
    "val_term_doc = get_term_doc_matrix(movie_reviews.valid.x, len(movie_reviews.vocab.itos))"
   ]
  },
  {
   "cell_type": "code",
   "execution_count": 76,
   "metadata": {},
   "outputs": [
    {
     "name": "stdout",
     "output_type": "stream",
     "text": [
      "CPU times: user 112 ms, sys: 375 µs, total: 112 ms\n",
      "Wall time: 107 ms\n"
     ]
    }
   ],
   "source": [
    "%%time\n",
    "trn_term_doc = get_term_doc_matrix(movie_reviews.train.x, len(movie_reviews.vocab.itos))"
   ]
  },
  {
   "cell_type": "code",
   "execution_count": 77,
   "metadata": {},
   "outputs": [
    {
     "data": {
      "text/plain": [
       "(800, 6008)"
      ]
     },
     "execution_count": 77,
     "metadata": {},
     "output_type": "execute_result"
    }
   ],
   "source": [
    "trn_term_doc.shape"
   ]
  },
  {
   "cell_type": "code",
   "execution_count": 78,
   "metadata": {},
   "outputs": [
    {
     "data": {
      "text/plain": [
       "<800x10 sparse matrix of type '<class 'numpy.int64'>'\n",
       "\twith 10 stored elements in Compressed Sparse Row format>"
      ]
     },
     "execution_count": 78,
     "metadata": {},
     "output_type": "execute_result"
    }
   ],
   "source": [
    "trn_term_doc[:,-10:]"
   ]
  },
  {
   "cell_type": "code",
   "execution_count": 79,
   "metadata": {},
   "outputs": [
    {
     "data": {
      "text/plain": [
       "(200, 6008)"
      ]
     },
     "execution_count": 79,
     "metadata": {},
     "output_type": "execute_result"
    }
   ],
   "source": [
    "val_term_doc.shape"
   ]
  },
  {
   "cell_type": "code",
   "execution_count": 81,
   "metadata": {},
   "outputs": [
    {
     "data": {
      "text/plain": [
       "['sollett']"
      ]
     },
     "execution_count": 81,
     "metadata": {},
     "output_type": "execute_result"
    }
   ],
   "source": [
    "movie_reviews.vocab.itos[-1:]"
   ]
  },
  {
   "cell_type": "code",
   "execution_count": 85,
   "metadata": {},
   "outputs": [
    {
     "data": {
      "text/plain": [
       "matrix([[0, 0, 0, 0, ..., 0, 0, 0, 0],\n",
       "        [0, 0, 0, 0, ..., 0, 0, 0, 0],\n",
       "        [0, 0, 0, 0, ..., 0, 0, 0, 0],\n",
       "        [0, 0, 0, 0, ..., 0, 0, 0, 0],\n",
       "        ...,\n",
       "        [0, 0, 0, 0, ..., 0, 0, 0, 0],\n",
       "        [0, 0, 0, 0, ..., 0, 0, 0, 0],\n",
       "        [0, 0, 0, 0, ..., 0, 0, 0, 0],\n",
       "        [0, 0, 0, 0, ..., 0, 0, 0, 0]])"
      ]
     },
     "execution_count": 85,
     "metadata": {},
     "output_type": "execute_result"
    }
   ],
   "source": [
    "val_term_doc.todense()[:10,-10:]"
   ]
  },
  {
   "cell_type": "code",
   "execution_count": 83,
   "metadata": {},
   "outputs": [
    {
     "data": {
      "text/plain": [
       "'xxeos'"
      ]
     },
     "execution_count": 83,
     "metadata": {},
     "output_type": "execute_result"
    }
   ],
   "source": [
    "movie_reviews.vocab.itos[3]"
   ]
  },
  {
   "cell_type": "code",
   "execution_count": 84,
   "metadata": {},
   "outputs": [
    {
     "data": {
      "text/plain": [
       "Text xxbos i saw this movie once as a kid on the late - late show and fell in love with it . \n",
       " \n",
       "  xxmaj it took 30 + years , but i recently did find it on xxup dvd - it was n't cheap , either - in a xxunk that xxunk in war movies . xxmaj we watched it last night for the first time . xxmaj the audio was good , however it was grainy and had the trailers between xxunk . xxmaj even so , it was better than i remembered it . i was also impressed at how true it was to the play . \n",
       " \n",
       "  xxmaj the xxunk is around here xxunk . xxmaj if you 're xxunk in finding it , fire me a xxunk and i 'll see if i can get you the xxunk . xxunk"
      ]
     },
     "execution_count": 84,
     "metadata": {},
     "output_type": "execute_result"
    }
   ],
   "source": [
    "review = movie_reviews.valid.x[1]; review"
   ]
  }
 ],
 "metadata": {
  "kernelspec": {
   "display_name": "Python 3",
   "language": "python",
   "name": "python3"
  },
  "language_info": {
   "codemirror_mode": {
    "name": "ipython",
    "version": 3
   },
   "file_extension": ".py",
   "mimetype": "text/x-python",
   "name": "python",
   "nbconvert_exporter": "python",
   "pygments_lexer": "ipython3",
   "version": "3.7.4"
  }
 },
 "nbformat": 4,
 "nbformat_minor": 2
}
