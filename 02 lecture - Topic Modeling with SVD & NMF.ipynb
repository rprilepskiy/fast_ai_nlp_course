{
 "cells": [
  {
   "cell_type": "code",
   "execution_count": 1,
   "metadata": {},
   "outputs": [],
   "source": [
    "import numpy as np\n",
    "from sklearn.datasets import fetch_20newsgroups\n",
    "from sklearn import decomposition\n",
    "from scipy import linalg\n",
    "import matplotlib.pyplot as plt"
   ]
  },
  {
   "cell_type": "code",
   "execution_count": 2,
   "metadata": {},
   "outputs": [],
   "source": [
    "%matplotlib inline\n",
    "np.set_printoptions(suppress=True)"
   ]
  },
  {
   "cell_type": "code",
   "execution_count": 3,
   "metadata": {},
   "outputs": [
    {
     "name": "stderr",
     "output_type": "stream",
     "text": [
      "Downloading 20news dataset. This may take a few minutes.\n",
      "Downloading dataset from https://ndownloader.figshare.com/files/5975967 (14 MB)\n"
     ]
    }
   ],
   "source": [
    "categories = ['comp.os.ms-windows.misc', 'rec.autos', 'sci.electronics', 'sci.space']\n",
    "remove = ('headers', 'footers', 'quotes')\n",
    "newsgroups_train = fetch_20newsgroups(subset='train', categories=categories, remove=remove)"
   ]
  },
  {
   "cell_type": "code",
   "execution_count": 4,
   "metadata": {},
   "outputs": [],
   "source": [
    "newsgroups_test = fetch_20newsgroups(subset='test', categories=categories, remove=remove)"
   ]
  },
  {
   "cell_type": "code",
   "execution_count": 5,
   "metadata": {},
   "outputs": [
    {
     "data": {
      "text/plain": [
       "((2369,), (1577,))"
      ]
     },
     "execution_count": 5,
     "metadata": {},
     "output_type": "execute_result"
    }
   ],
   "source": [
    "newsgroups_train.filenames.shape, newsgroups_test.filenames.shape"
   ]
  },
  {
   "cell_type": "code",
   "execution_count": 15,
   "metadata": {},
   "outputs": [
    {
     "data": {
      "text/plain": [
       "2369"
      ]
     },
     "execution_count": 15,
     "metadata": {},
     "output_type": "execute_result"
    }
   ],
   "source": [
    "newsgroups_train.filenames.shape[0]"
   ]
  },
  {
   "cell_type": "code",
   "execution_count": 28,
   "metadata": {},
   "outputs": [
    {
     "data": {
      "text/plain": [
       "array([1701, 1844, 1911])"
      ]
     },
     "execution_count": 28,
     "metadata": {},
     "output_type": "execute_result"
    }
   ],
   "source": [
    "random_index = np.random.randint(0, newsgroups_train.filenames.shape[0]-1, 3)\n",
    "random_index"
   ]
  },
  {
   "cell_type": "code",
   "execution_count": 31,
   "metadata": {},
   "outputs": [
    {
     "name": "stdout",
     "output_type": "stream",
     "text": [
      "Hi: I'd like to know how much the foll. equipment will fetch in the used\n",
      "equipment market (without manuals or other accessories):\n",
      "\t1. Tektronix 2465 scope\n",
      "\t2. Tektronix 2465A scope\n",
      "\t3. Tektronix 1240 logic analyser\n",
      "#----------#\n",
      "We have a LAN where we are doing development on product for multiple platforms. \n",
      "For the moment we are only working on MAC and DOS/Windows. The department has   \n",
      "always used sneaker net to transport files to the MAC, since it requires a      \n",
      "filter to strip out the <LF> characters.                                        \n",
      "\n",
      "Until recently no one concidered using any version control to mediate, and as   \n",
      "a result, the 5 programmers spent a great deal of time merging files together   \n",
      "at the end of each week so that a new system could be build. We are now trying  \n",
      "to streamline this process, but are hampered by the lack of software that will  \n",
      "allow us to share files across PC and MAC platforms.                            \n",
      "\n",
      "I understand that PVCS used to do this, but that they no longer support the MAC \n",
      "product (anyone know why ??  Polytron ?).                                       \n",
      "\n",
      "I have seen people ask about development in multiple platforms, so I assume that\n",
      "ours is not a new problem.  Who has had to deal with it ?  What solutions have  \n",
      "you come up with?                                                               \n",
      "\n",
      "thanks in advance for any and all suggestions via posting or EMAIL. If there are\n",
      "enough EMAIL responses then I will post a synopsis of the knowledge.            \n",
      "\n",
      "-Charles Emmons                                                                 \n",
      "\n",
      "#----------#\n",
      "\n",
      "\n",
      "\n",
      "\n",
      "Gamma Ray Bursts (GRBs) are seen coming equally from all directions.\n",
      "However, given the number of bright ones, there are too few faint\n",
      "ones to be consistent with being equally dense for as far\n",
      "as we can see--it is as if they are all contained within\n",
      "a finite sphere (or a sphere with fuzzy edges) with us at the\n",
      "center.  (These measurements are statistical, and you can\n",
      "always hide a sufficiently small number of a different\n",
      "type of GRB with a different origin in the data.  I am assuming\n",
      "that there is only one population of GRBs).\n",
      "\n",
      "The data indicates that we are less than 10% of the radius of the center\n",
      "of the distribution.  The only things the Earth is at the exact center\n",
      "of are the Solar system (at the scale of the Oort cloud of comets\n",
      "way beyond Pluto) and the Universe.  Cosmological theories, placing\n",
      "GRBs throughout the Universe, require supernova-type energies to\n",
      "be released over a timescale of milliseconds.  Oort cloud models\n",
      "tend to be silly, even by the standards of astrophysics.\n",
      "\n",
      "If GRBs were Galactic (i.e. distributed through the Milky Way Galaxy)\n",
      "you would expect them to be either concentrated in the plane of\n",
      "the Galaxy (for a 'disk' population), or towards the Galactic center\n",
      "(for a spherical 'halo' population).  We don't see this, so if they\n",
      "are Galactic, they must be in a halo at least 250,000 light years in\n",
      "radius, and we would probably start to see GRBs from the Andromeda\n",
      "Galaxy (assuming that it has a similar halo.)  For comparison, the\n",
      "Earth is 25,000 light-years from the center of the Galaxy.\n",
      "\n",
      "\n",
      "The aren't concentrated in the known spacelanes, and we don't\n",
      "see many coming from Zeta Reticuli and Tau Ceti.\n",
      "\n",
      "\n",
      "There are more than 130 GRB different models in the refereed literature.\n",
      "Right now, the theorists have a sort of unofficial moratorium\n",
      "on new models until new observational evidence comes in.\n",
      "\n"
     ]
    }
   ],
   "source": [
    "print(\"\\n#----------#\\n\".join(np.array(newsgroups_train.data)[random_index]))"
   ]
  },
  {
   "cell_type": "code",
   "execution_count": 32,
   "metadata": {},
   "outputs": [
    {
     "data": {
      "text/plain": [
       "array(['sci.electronics', 'comp.os.ms-windows.misc', 'sci.space'],\n",
       "      dtype='<U23')"
      ]
     },
     "execution_count": 32,
     "metadata": {},
     "output_type": "execute_result"
    }
   ],
   "source": [
    "np.array(newsgroups_train.target_names)[newsgroups_train.target[random_index]]"
   ]
  },
  {
   "cell_type": "code",
   "execution_count": 33,
   "metadata": {},
   "outputs": [
    {
     "data": {
      "text/plain": [
       "array([0, 0, 0, 2, 0, 2, 2, 1, 1, 0], dtype=int64)"
      ]
     },
     "execution_count": 33,
     "metadata": {},
     "output_type": "execute_result"
    }
   ],
   "source": [
    "newsgroups_train.target[:10]"
   ]
  },
  {
   "cell_type": "code",
   "execution_count": 34,
   "metadata": {},
   "outputs": [],
   "source": [
    "num_topics, num_top_words = 6, 8"
   ]
  },
  {
   "cell_type": "markdown",
   "metadata": {},
   "source": [
    "# Stop words"
   ]
  },
  {
   "cell_type": "code",
   "execution_count": 35,
   "metadata": {},
   "outputs": [
    {
     "data": {
      "text/plain": [
       "['a',\n",
       " 'about',\n",
       " 'above',\n",
       " 'across',\n",
       " 'after',\n",
       " 'afterwards',\n",
       " 'again',\n",
       " 'against',\n",
       " 'all',\n",
       " 'almost',\n",
       " 'alone',\n",
       " 'along',\n",
       " 'already',\n",
       " 'also',\n",
       " 'although',\n",
       " 'always',\n",
       " 'am',\n",
       " 'among',\n",
       " 'amongst',\n",
       " 'amoungst']"
      ]
     },
     "execution_count": 35,
     "metadata": {},
     "output_type": "execute_result"
    }
   ],
   "source": [
    "from sklearn.feature_extraction import stop_words\n",
    "sorted(list(stop_words.ENGLISH_STOP_WORDS))[:20]"
   ]
  },
  {
   "cell_type": "code",
   "execution_count": null,
   "metadata": {},
   "outputs": [],
   "source": []
  }
 ],
 "metadata": {
  "kernelspec": {
   "display_name": "Python 3",
   "language": "python",
   "name": "python3"
  },
  "language_info": {
   "codemirror_mode": {
    "name": "ipython",
    "version": 3
   },
   "file_extension": ".py",
   "mimetype": "text/x-python",
   "name": "python",
   "nbconvert_exporter": "python",
   "pygments_lexer": "ipython3",
   "version": "3.7.4"
  },
  "toc": {
   "base_numbering": 1,
   "nav_menu": {},
   "number_sections": true,
   "sideBar": true,
   "skip_h1_title": false,
   "title_cell": "Table of Contents",
   "title_sidebar": "Contents",
   "toc_cell": false,
   "toc_position": {},
   "toc_section_display": true,
   "toc_window_display": false
  },
  "varInspector": {
   "cols": {
    "lenName": 16,
    "lenType": 16,
    "lenVar": 40
   },
   "kernels_config": {
    "python": {
     "delete_cmd_postfix": "",
     "delete_cmd_prefix": "del ",
     "library": "var_list.py",
     "varRefreshCmd": "print(var_dic_list())"
    },
    "r": {
     "delete_cmd_postfix": ") ",
     "delete_cmd_prefix": "rm(",
     "library": "var_list.r",
     "varRefreshCmd": "cat(var_dic_list()) "
    }
   },
   "types_to_exclude": [
    "module",
    "function",
    "builtin_function_or_method",
    "instance",
    "_Feature"
   ],
   "window_display": false
  }
 },
 "nbformat": 4,
 "nbformat_minor": 2
}
